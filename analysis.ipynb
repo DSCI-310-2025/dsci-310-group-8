{
 "cells": [
  {
   "cell_type": "markdown",
   "id": "019dce5e-2afa-47b0-b803-f8a6f311b85f",
   "metadata": {},
   "source": [
    "# DSCI 310 Group Project: Income Prediction and Inference Analysis\n",
    "\n",
    "Prepared by Group 10:\n",
    "- Benjamin Gerochi\n",
    "- Izzy Zhou\n",
    "- Michael Tham\n",
    "- Yui Mikuriya"
   ]
  },
  {
   "cell_type": "markdown",
   "id": "bb971875-4004-41ce-9c29-db5360f175b2",
   "metadata": {},
   "source": [
    "## (1) Summary\n"
   ]
  },
  {
   "cell_type": "markdown",
   "id": "9e4261de-1668-48eb-aafd-b5ec77069172",
   "metadata": {},
   "source": [
    "## (2) Introduction\n",
    "## Dataset Overview\n",
    "\n",
    "The dataset selected for this project is the **Adult Dataset** (Kohavi & Becker, 1996), available through the **UCI Machine Learning Repository**. It contains demographic and income data collected by the **U.S. Census Bureau** and is widely used for predicting whether an individual’s income exceeds **$50,000 per year** based on various demographic factors.\n",
    "\n",
    "### Dataset Details:\n",
    "- **Dataset Name**: UC Irvine Adult Dataset  \n",
    "- **Source**: 1994 U.S. Census database, compiled by Ronny Kohavi and Barry Becker  \n",
    "  - [Access the dataset here](https://archive.ics.uci.edu/ml/datasets/adult)  \n",
    "- **Total Observations**: 32,561  \n",
    "- **Total Variables**: 15  \n",
    "\n",
    "\n",
    "### Variables and Their Types\n",
    "\n",
    "\n",
    "| Variable Index | Variable Name       | Type      | Description |\n",
    "|----------------|---------------------|-----------|-------------|\n",
    "| 0              | age                 | continuous       | Age of the individual |\n",
    "| 1              | workclass           | categorical    | Employment sector (e.g., Private, Self-emp-not-inc, State-gov) |\n",
    "| 2              | fnlwgt              | continuous       | Final weight, representing the number of people the observation represents in the population |\n",
    "| 3              | education           | categorical    | Highest level of education attained |\n",
    "| 4              | education-num       | continuous       | Numerical representation of education level |\n",
    "| 5              | marital-status      | categorical    | Marital status (e.g., Never-married, Married-civ-spouse) |\n",
    "| 6              | occupation          | categorical    | Type of occupation (e.g., Adm-clerical, Exec-managerial) |\n",
    "| 7              | relationship        | categorical    | Relationship of the individual to the household (e.g., Husband, Not-in-family) |\n",
    "| 8              | race                | categorical    | Race of the individual (e.g., White, Black) |\n",
    "| 9              | sex                 | categorical    | Gender (Male/Female) |\n",
    "| 10             | capital-gain        | continuous       | Capital gains earned |\n",
    "| 11             | capital-loss        | continuous       | Capital losses incurred |\n",
    "| 12             | hours-per-week      | continuous       | Average hours worked per week |\n",
    "| 13             | native-country      | categorical    | Country of origin |\n",
    "| 14             | income              | categorical    | Income level (<=50K, >50K) |\n",
    "\n",
    "**Table 1.1**: Description of variables in the U.S. Census Adult dataset\n",
    "\n",
    "<!-- ### Descriptive Statistics\n",
    "\n",
    "- **Age**: Ranges from 17 to 90, with an average age of 38.6 years.\n",
    "- **Education-num**: Has values from 1 to 16, representing various education levels.\n",
    "- **Capital-gain**: Ranges from 0 to 99,999, with most values concentrated around zero, indicating that high capital gains are rare.\n",
    "- **Capital-loss**: Similar to capital gain, most values are zero.\n",
    "- **Hours-per-week**: Has a mean of 40.4 hours, aligning with typical full-time work expectations.\n",
    "- **Income**: Target variable, classified into two categories: <=50K and >50K. -->\n",
    "\n",
    "This dataset includes both **categorical** and **numerical** variables, making it suitable for analyzing relationships between **demographic attributes** and **income levels**. Further **exploration and preprocessing** may involve handling **missing values** and **encoding categorical features**.  \n",
    "\n",
    "### Research Question  \n",
    "**How do demographic factors influence the likelihood of an individual's annual income exceeding $50,000?**  \n",
    "\n",
    "This study explores relationships between demographic variables and income levels without pre-assuming key predictors. Our team initially analyzed different aspects of the dataset before deciding to focus on demographic influences on income.  \n",
    "\n",
    "### Literature Context  \n",
    "Prior research supports the importance of demographic factors in income prediction. Jo (2023) analyzed the **Adult dataset** and identified **capital gain, education, relationship status, and occupation** as key predictors. Similarly, Azzollini et al. (2023) found that demographic differences explained **40% of income inequality** across OECD countries, reinforcing the relevance of our analysis.  \n",
    "\n",
    "### **Objective**\n",
    "\n",
    "This research question encompasses both **prediction** and **inference**:\n",
    "\n",
    "- **Prediction:** To develop a model capable of predicting the likelihood of an individual earning more than $50,000 annually based on key demographic factors.\n",
    "\n",
    "- **Inference:** To understand the nature and strength of the relationships between various demographic factors and income.\n",
    "\n",
    "### Loading Required Libraries\n",
    "We will start by importing the necessary Python libraries for data analysis and preprocessing."
   ]
  },
  {
   "cell_type": "markdown",
   "id": "20026d5e-2e80-4600-b97e-9890b7216c93",
   "metadata": {},
   "source": [
    "## (3) Methods & Results"
   ]
  },
  {
   "cell_type": "code",
   "execution_count": 3,
   "id": "3202b5ea-fbc8-49fe-934f-dde7e0cf77ac",
   "metadata": {},
   "outputs": [
    {
     "name": "stdout",
     "output_type": "stream",
     "text": [
      "\n",
      "ダウンロードされたパッケージは、以下にあります\n",
      "\t/var/folders/l5/r_qqxpln463g2rmqs4kwjq840000gn/T//RtmpGmWjQR/downloaded_packages\n"
     ]
    },
    {
     "name": "stderr",
     "output_type": "stream",
     "text": [
      "要求されたパッケージ Matrix をロード中です\n",
      "\n",
      "Loaded glmnet 4.1-8\n",
      "\n",
      "\n",
      "次のパッケージを付け加えます: ‘modelr’\n",
      "\n",
      "\n",
      "以下のオブジェクトは ‘package:mltools’ からマスクされています:\n",
      "\n",
      "    mse, rmse\n",
      "\n",
      "\n",
      "以下のオブジェクトは ‘package:broom’ からマスクされています:\n",
      "\n",
      "    bootstrap\n",
      "\n",
      "\n",
      "── \u001b[1mAttaching core tidyverse packages\u001b[22m ────────────────────────── tidyverse 2.0.0 ──\n",
      "\u001b[32m✔\u001b[39m \u001b[34mdplyr    \u001b[39m 1.1.4     \u001b[32m✔\u001b[39m \u001b[34mreadr    \u001b[39m 2.1.5\n",
      "\u001b[32m✔\u001b[39m \u001b[34mforcats  \u001b[39m 1.0.0     \u001b[32m✔\u001b[39m \u001b[34mstringr  \u001b[39m 1.5.1\n",
      "\u001b[32m✔\u001b[39m \u001b[34mggplot2  \u001b[39m 3.5.1     \u001b[32m✔\u001b[39m \u001b[34mtibble   \u001b[39m 3.2.1\n",
      "\u001b[32m✔\u001b[39m \u001b[34mlubridate\u001b[39m 1.9.4     \u001b[32m✔\u001b[39m \u001b[34mtidyr    \u001b[39m 1.3.1\n",
      "\u001b[32m✔\u001b[39m \u001b[34mpurrr    \u001b[39m 1.0.2     \n",
      "── \u001b[1mConflicts\u001b[22m ──────────────────────────────────────────── tidyverse_conflicts() ──\n",
      "\u001b[31m✖\u001b[39m \u001b[34mmodelr\u001b[39m::\u001b[32mbootstrap()\u001b[39m masks \u001b[34mbroom\u001b[39m::bootstrap()\n",
      "\u001b[31m✖\u001b[39m \u001b[34mdplyr\u001b[39m::\u001b[32mcombine()\u001b[39m    masks \u001b[34mgridExtra\u001b[39m::combine()\n",
      "\u001b[31m✖\u001b[39m \u001b[34mtidyr\u001b[39m::\u001b[32mexpand()\u001b[39m     masks \u001b[34mMatrix\u001b[39m::expand()\n",
      "\u001b[31m✖\u001b[39m \u001b[34mdplyr\u001b[39m::\u001b[32mfilter()\u001b[39m     masks \u001b[34mstats\u001b[39m::filter()\n",
      "\u001b[31m✖\u001b[39m \u001b[34mdplyr\u001b[39m::\u001b[32mlag()\u001b[39m        masks \u001b[34mstats\u001b[39m::lag()\n",
      "\u001b[31m✖\u001b[39m \u001b[34mmodelr\u001b[39m::\u001b[32mmse()\u001b[39m       masks \u001b[34mmltools\u001b[39m::mse()\n",
      "\u001b[31m✖\u001b[39m \u001b[34mtidyr\u001b[39m::\u001b[32mpack()\u001b[39m       masks \u001b[34mMatrix\u001b[39m::pack()\n",
      "\u001b[31m✖\u001b[39m \u001b[34mtidyr\u001b[39m::\u001b[32mreplace_na()\u001b[39m masks \u001b[34mmltools\u001b[39m::replace_na()\n",
      "\u001b[31m✖\u001b[39m \u001b[34mmodelr\u001b[39m::\u001b[32mrmse()\u001b[39m      masks \u001b[34mmltools\u001b[39m::rmse()\n",
      "\u001b[31m✖\u001b[39m \u001b[34mlubridate\u001b[39m::\u001b[32mstamp()\u001b[39m  masks \u001b[34mcowplot\u001b[39m::stamp()\n",
      "\u001b[31m✖\u001b[39m \u001b[34mtidyr\u001b[39m::\u001b[32munpack()\u001b[39m     masks \u001b[34mMatrix\u001b[39m::unpack()\n",
      "\u001b[36mℹ\u001b[39m Use the conflicted package (\u001b[3m\u001b[34m<http://conflicted.r-lib.org/>\u001b[39m\u001b[23m) to force all conflicts to become errors\n",
      "Registered S3 method overwritten by 'GGally':\n",
      "  method from   \n",
      "  +.gg   ggplot2\n",
      "\n",
      "\n",
      "次のパッケージを付け加えます: ‘GGally’\n",
      "\n",
      "\n",
      "以下のオブジェクトは ‘package:faraway’ からマスクされています:\n",
      "\n",
      "    happy\n",
      "\n",
      "\n",
      "\n",
      "次のパッケージを付け加えます: ‘patchwork’\n",
      "\n",
      "\n",
      "以下のオブジェクトは ‘package:cowplot’ からマスクされています:\n",
      "\n",
      "    align_plots\n",
      "\n",
      "\n"
     ]
    }
   ],
   "source": [
    "install.packages(c(\"broom\", \"repr\", \"infer\", \"gridExtra\", \"faraway\",  \n",
    "                   \"mltools\", \"leaps\", \"glmnet\", \"cowplot\", \"modelr\",  \n",
    "                   \"tidyverse\", \"ggplot2\", \"dplyr\", \"GGally\", \"patchwork\", \"knitr\"))\n",
    "\n",
    "library(broom)\n",
    "library(repr)\n",
    "library(infer)\n",
    "library(gridExtra)\n",
    "library(faraway)\n",
    "library(mltools)\n",
    "library(leaps)\n",
    "library(glmnet)\n",
    "library(cowplot)\n",
    "library(modelr)\n",
    "library(tidyverse)\n",
    "library(ggplot2)\n",
    "library(dplyr)\n",
    "library(GGally)\n",
    "library(patchwork)\n",
    "library(knitr)"
   ]
  },
  {
   "cell_type": "code",
   "execution_count": 4,
   "id": "2b692c45-8efb-40b5-b5ff-088f1fc440aa",
   "metadata": {},
   "outputs": [
    {
     "name": "stderr",
     "output_type": "stream",
     "text": [
      "\u001b[1mRows: \u001b[22m\u001b[34m32561\u001b[39m \u001b[1mColumns: \u001b[22m\u001b[34m15\u001b[39m\n",
      "\u001b[36m──\u001b[39m \u001b[1mColumn specification\u001b[22m \u001b[36m──────────────────────────────────────────────────────────\u001b[39m\n",
      "\u001b[1mDelimiter:\u001b[22m \",\"\n",
      "\u001b[31mchr\u001b[39m (9): X2, X4, X6, X7, X8, X9, X10, X14, X15\n",
      "\u001b[32mdbl\u001b[39m (6): X1, X3, X5, X11, X12, X13\n",
      "\n",
      "\u001b[36mℹ\u001b[39m Use `spec()` to retrieve the full column specification for this data.\n",
      "\u001b[36mℹ\u001b[39m Specify the column types or set `show_col_types = FALSE` to quiet this message.\n"
     ]
    },
    {
     "data": {
      "text/html": [
       "<table class=\"dataframe\">\n",
       "<caption>A tibble: 6 × 15</caption>\n",
       "<thead>\n",
       "\t<tr><th scope=col>age</th><th scope=col>workclass</th><th scope=col>fnlwgt</th><th scope=col>education</th><th scope=col>education_num</th><th scope=col>marital_status</th><th scope=col>occupation</th><th scope=col>relationship</th><th scope=col>race</th><th scope=col>sex</th><th scope=col>capital_gain</th><th scope=col>capital_loss</th><th scope=col>hours_per_week</th><th scope=col>native_country</th><th scope=col>income</th></tr>\n",
       "\t<tr><th scope=col>&lt;dbl&gt;</th><th scope=col>&lt;chr&gt;</th><th scope=col>&lt;dbl&gt;</th><th scope=col>&lt;chr&gt;</th><th scope=col>&lt;dbl&gt;</th><th scope=col>&lt;chr&gt;</th><th scope=col>&lt;chr&gt;</th><th scope=col>&lt;chr&gt;</th><th scope=col>&lt;chr&gt;</th><th scope=col>&lt;chr&gt;</th><th scope=col>&lt;dbl&gt;</th><th scope=col>&lt;dbl&gt;</th><th scope=col>&lt;dbl&gt;</th><th scope=col>&lt;chr&gt;</th><th scope=col>&lt;chr&gt;</th></tr>\n",
       "</thead>\n",
       "<tbody>\n",
       "\t<tr><td>39</td><td><span style=white-space:pre-wrap>State-gov       </span></td><td> 77516</td><td>Bachelors</td><td>13</td><td><span style=white-space:pre-wrap>Never-married     </span></td><td><span style=white-space:pre-wrap>Adm-clerical     </span></td><td>Not-in-family</td><td>White</td><td><span style=white-space:pre-wrap>Male  </span></td><td>2174</td><td>0</td><td>40</td><td>United-States</td><td>&lt;=50K</td></tr>\n",
       "\t<tr><td>50</td><td>Self-emp-not-inc</td><td> 83311</td><td>Bachelors</td><td>13</td><td>Married-civ-spouse</td><td><span style=white-space:pre-wrap>Exec-managerial  </span></td><td><span style=white-space:pre-wrap>Husband      </span></td><td>White</td><td><span style=white-space:pre-wrap>Male  </span></td><td><span style=white-space:pre-wrap>   0</span></td><td>0</td><td>13</td><td>United-States</td><td>&lt;=50K</td></tr>\n",
       "\t<tr><td>38</td><td><span style=white-space:pre-wrap>Private         </span></td><td>215646</td><td><span style=white-space:pre-wrap>HS-grad  </span></td><td> 9</td><td><span style=white-space:pre-wrap>Divorced          </span></td><td>Handlers-cleaners</td><td>Not-in-family</td><td>White</td><td><span style=white-space:pre-wrap>Male  </span></td><td><span style=white-space:pre-wrap>   0</span></td><td>0</td><td>40</td><td>United-States</td><td>&lt;=50K</td></tr>\n",
       "\t<tr><td>53</td><td><span style=white-space:pre-wrap>Private         </span></td><td>234721</td><td><span style=white-space:pre-wrap>11th     </span></td><td> 7</td><td>Married-civ-spouse</td><td>Handlers-cleaners</td><td><span style=white-space:pre-wrap>Husband      </span></td><td>Black</td><td><span style=white-space:pre-wrap>Male  </span></td><td><span style=white-space:pre-wrap>   0</span></td><td>0</td><td>40</td><td>United-States</td><td>&lt;=50K</td></tr>\n",
       "\t<tr><td>28</td><td><span style=white-space:pre-wrap>Private         </span></td><td>338409</td><td>Bachelors</td><td>13</td><td>Married-civ-spouse</td><td><span style=white-space:pre-wrap>Prof-specialty   </span></td><td><span style=white-space:pre-wrap>Wife         </span></td><td>Black</td><td>Female</td><td><span style=white-space:pre-wrap>   0</span></td><td>0</td><td>40</td><td><span style=white-space:pre-wrap>Cuba         </span></td><td>&lt;=50K</td></tr>\n",
       "\t<tr><td>37</td><td><span style=white-space:pre-wrap>Private         </span></td><td>284582</td><td><span style=white-space:pre-wrap>Masters  </span></td><td>14</td><td>Married-civ-spouse</td><td><span style=white-space:pre-wrap>Exec-managerial  </span></td><td><span style=white-space:pre-wrap>Wife         </span></td><td>White</td><td>Female</td><td><span style=white-space:pre-wrap>   0</span></td><td>0</td><td>40</td><td>United-States</td><td>&lt;=50K</td></tr>\n",
       "</tbody>\n",
       "</table>\n"
      ],
      "text/latex": [
       "A tibble: 6 × 15\n",
       "\\begin{tabular}{lllllllllllllll}\n",
       " age & workclass & fnlwgt & education & education\\_num & marital\\_status & occupation & relationship & race & sex & capital\\_gain & capital\\_loss & hours\\_per\\_week & native\\_country & income\\\\\n",
       " <dbl> & <chr> & <dbl> & <chr> & <dbl> & <chr> & <chr> & <chr> & <chr> & <chr> & <dbl> & <dbl> & <dbl> & <chr> & <chr>\\\\\n",
       "\\hline\n",
       "\t 39 & State-gov        &  77516 & Bachelors & 13 & Never-married      & Adm-clerical      & Not-in-family & White & Male   & 2174 & 0 & 40 & United-States & <=50K\\\\\n",
       "\t 50 & Self-emp-not-inc &  83311 & Bachelors & 13 & Married-civ-spouse & Exec-managerial   & Husband       & White & Male   &    0 & 0 & 13 & United-States & <=50K\\\\\n",
       "\t 38 & Private          & 215646 & HS-grad   &  9 & Divorced           & Handlers-cleaners & Not-in-family & White & Male   &    0 & 0 & 40 & United-States & <=50K\\\\\n",
       "\t 53 & Private          & 234721 & 11th      &  7 & Married-civ-spouse & Handlers-cleaners & Husband       & Black & Male   &    0 & 0 & 40 & United-States & <=50K\\\\\n",
       "\t 28 & Private          & 338409 & Bachelors & 13 & Married-civ-spouse & Prof-specialty    & Wife          & Black & Female &    0 & 0 & 40 & Cuba          & <=50K\\\\\n",
       "\t 37 & Private          & 284582 & Masters   & 14 & Married-civ-spouse & Exec-managerial   & Wife          & White & Female &    0 & 0 & 40 & United-States & <=50K\\\\\n",
       "\\end{tabular}\n"
      ],
      "text/markdown": [
       "\n",
       "A tibble: 6 × 15\n",
       "\n",
       "| age &lt;dbl&gt; | workclass &lt;chr&gt; | fnlwgt &lt;dbl&gt; | education &lt;chr&gt; | education_num &lt;dbl&gt; | marital_status &lt;chr&gt; | occupation &lt;chr&gt; | relationship &lt;chr&gt; | race &lt;chr&gt; | sex &lt;chr&gt; | capital_gain &lt;dbl&gt; | capital_loss &lt;dbl&gt; | hours_per_week &lt;dbl&gt; | native_country &lt;chr&gt; | income &lt;chr&gt; |\n",
       "|---|---|---|---|---|---|---|---|---|---|---|---|---|---|---|\n",
       "| 39 | State-gov        |  77516 | Bachelors | 13 | Never-married      | Adm-clerical      | Not-in-family | White | Male   | 2174 | 0 | 40 | United-States | &lt;=50K |\n",
       "| 50 | Self-emp-not-inc |  83311 | Bachelors | 13 | Married-civ-spouse | Exec-managerial   | Husband       | White | Male   |    0 | 0 | 13 | United-States | &lt;=50K |\n",
       "| 38 | Private          | 215646 | HS-grad   |  9 | Divorced           | Handlers-cleaners | Not-in-family | White | Male   |    0 | 0 | 40 | United-States | &lt;=50K |\n",
       "| 53 | Private          | 234721 | 11th      |  7 | Married-civ-spouse | Handlers-cleaners | Husband       | Black | Male   |    0 | 0 | 40 | United-States | &lt;=50K |\n",
       "| 28 | Private          | 338409 | Bachelors | 13 | Married-civ-spouse | Prof-specialty    | Wife          | Black | Female |    0 | 0 | 40 | Cuba          | &lt;=50K |\n",
       "| 37 | Private          | 284582 | Masters   | 14 | Married-civ-spouse | Exec-managerial   | Wife          | White | Female |    0 | 0 | 40 | United-States | &lt;=50K |\n",
       "\n"
      ],
      "text/plain": [
       "  age workclass        fnlwgt education education_num marital_status    \n",
       "1 39  State-gov         77516 Bachelors 13            Never-married     \n",
       "2 50  Self-emp-not-inc  83311 Bachelors 13            Married-civ-spouse\n",
       "3 38  Private          215646 HS-grad    9            Divorced          \n",
       "4 53  Private          234721 11th       7            Married-civ-spouse\n",
       "5 28  Private          338409 Bachelors 13            Married-civ-spouse\n",
       "6 37  Private          284582 Masters   14            Married-civ-spouse\n",
       "  occupation        relationship  race  sex    capital_gain capital_loss\n",
       "1 Adm-clerical      Not-in-family White Male   2174         0           \n",
       "2 Exec-managerial   Husband       White Male      0         0           \n",
       "3 Handlers-cleaners Not-in-family White Male      0         0           \n",
       "4 Handlers-cleaners Husband       Black Male      0         0           \n",
       "5 Prof-specialty    Wife          Black Female    0         0           \n",
       "6 Exec-managerial   Wife          White Female    0         0           \n",
       "  hours_per_week native_country income\n",
       "1 40             United-States  <=50K \n",
       "2 13             United-States  <=50K \n",
       "3 40             United-States  <=50K \n",
       "4 40             United-States  <=50K \n",
       "5 40             Cuba           <=50K \n",
       "6 40             United-States  <=50K "
      ]
     },
     "metadata": {},
     "output_type": "display_data"
    }
   ],
   "source": [
    "file_path <- \"data/census+income/adult.data\"\n",
    "\n",
    "income <- read_csv(file_path, \n",
    "                   col_names = FALSE,\n",
    "                   na = \"?\")\n",
    "\n",
    "colnames(income) <- c(\n",
    "    \"age\", \"workclass\", \"fnlwgt\", \"education\", \"education_num\",\n",
    "    \"marital_status\", \"occupation\", \"relationship\", \"race\",\n",
    "    \"sex\", \"capital_gain\", \"capital_loss\", \"hours_per_week\",\n",
    "    \"native_country\", \"income\")\n",
    "\n",
    "head(income)"
   ]
  },
  {
   "cell_type": "markdown",
   "id": "d4b62db1-0181-47ab-bc65-5c4eb20b1a65",
   "metadata": {},
   "source": []
  },
  {
   "cell_type": "markdown",
   "id": "de9f34a5-59d7-4d24-b884-6cca7de4c20f",
   "metadata": {},
   "source": [
    "## (4) Discussion\n"
   ]
  },
  {
   "cell_type": "markdown",
   "id": "6b05e49b-512e-40c4-b876-955f393fcae6",
   "metadata": {},
   "source": [
    "## (5) References\n"
   ]
  },
  {
   "cell_type": "code",
   "execution_count": null,
   "id": "9f99f797-f53b-404b-9821-9e00e2c1ff65",
   "metadata": {},
   "outputs": [],
   "source": []
  }
 ],
 "metadata": {
  "kernelspec": {
   "display_name": "R",
   "language": "R",
   "name": "ir"
  },
  "language_info": {
   "codemirror_mode": "r",
   "file_extension": ".r",
   "mimetype": "text/x-r-source",
   "name": "R",
   "pygments_lexer": "r",
   "version": "4.4.2"
  }
 },
 "nbformat": 4,
 "nbformat_minor": 5
}
