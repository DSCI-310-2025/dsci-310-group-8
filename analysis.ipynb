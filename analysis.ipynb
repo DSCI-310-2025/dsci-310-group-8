{
 "cells": [
  {
   "cell_type": "code",
   "execution_count": null,
   "id": "5c7484b4-3d4f-4a20-a6fc-5648e1834998",
   "metadata": {},
   "outputs": [],
   "source": []
  }
 ],
 "metadata": {
  "kernelspec": {
   "display_name": "R",
   "language": "R",
   "name": "ir"
  },
  "language_info": {
   "codemirror_mode": "r",
   "file_extension": ".r",
   "mimetype": "text/x-r-source",
   "name": "R",
   "pygments_lexer": "r",
   "version": "4.4.2"
  }
 },
 "nbformat": 4,
 "nbformat_minor": 5
}
