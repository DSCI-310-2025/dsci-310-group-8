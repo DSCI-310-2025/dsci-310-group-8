











install.packages(c("broom", "repr", "infer", "gridExtra", "faraway",  
                   "mltools", "leaps", "glmnet", "cowplot", "modelr",  
                   "tidyverse", "ggplot2", "dplyr", "GGally", "patchwork", "knitr"))

library(broom)
library(repr)
library(infer)
library(gridExtra)
library(faraway)
library(mltools)
library(leaps)
library(glmnet)
library(cowplot)
library(modelr)
library(tidyverse)
library(ggplot2)
library(dplyr)
library(GGally)
library(patchwork)
library(knitr)


file_path <- "data/census+income/adult.data"

income <- read_csv(file_path, 
                   col_names = FALSE,
                   na = "?")

colnames(income) <- c(
    "age", "workclass", "fnlwgt", "education", "education_num",
    "marital_status", "occupation", "relationship", "race",
    "sex", "capital_gain", "capital_loss", "hours_per_week",
    "native_country", "income")

head(income)





income <- income %>%
  mutate(income = as.factor(income))

income_clean <- income %>%
  drop_na()

summary(income_clean)





set.seed(1234)

sample_size <- 0.1*nrow(income_clean)

income_sample <- income_clean %>% 
  sample_n(size = sample_size)

train_indices <- sample(seq_len(nrow(income_sample)), size = 0.8 * nrow(income_sample))
train_data <- income_sample[train_indices, ]
test_data <- income_sample[-train_indices, ]

head(train_data)





train_data <- train_data %>%
  select(-fnlwgt, -education, -relationship, -workclass, -capital_gain, -capital_loss, -marital_status, -occupation, -race, -sex, -native_country) 

head(train_data)





options(repr.plot.width = 10, repr.plot.height = 8)
continuous_data <- train_data %>%
  select(age, hours_per_week, education_num)

ggpairs(continuous_data) +
  theme(
    text = element_text(size = 15),
    plot.title = element_text(face = "bold"),
    axis.title = element_text(face = "bold")
  )





continuous_summary <- train_data %>%
  select(age, hours_per_week, education_num) %>%  
  pivot_longer(cols = everything()) %>%  
  group_by(name) %>% 
  summarise(
    mean = mean(value, na.rm = TRUE),
    sd = sd(value, na.rm = TRUE),
    median = median(value, na.rm = TRUE),
    variance = var(value, na.rm = TRUE),
    max = max(value, na.rm = TRUE),
    min = min(value, na.rm = TRUE),
    .groups = "drop"
  )

continuous_summary








selected_vars <- c(
  "age", 
  "education_num", 
  "hours_per_week"
)

formula_reduced <- as.formula(paste("income ~", paste(selected_vars, collapse = " + ")))

full_model <- glm(formula_reduced, data = train_data, family = binomial)

summary(full_model)





install.packages("pROC")
library(pROC)

actual_classes <- train_data$income
predicted_probs <- predict(full_model, type = "response")

roc_curve <- roc(actual_classes, predicted_probs)
plot(roc_curve, main = "ROC Curve of Full Model")

auc_value <- auc(roc_curve)
print(auc_value)








test_pred_probs <- predict(full_model, newdata = test_data[, c("age", "hours_per_week", "education_num")], type = "response")
test_pred_class <- ifelse(test_pred_probs > 0.5, ">50K", "<=50K")


confusion_matrix <- table(Predicted = test_pred_class, Actual = test_data$income)
confusion_matrix





# Confusion matrix values
TP <- 40  # True Positives
TN <- 428  # True Negatives
FP <- 110  # False Positives
FN <- 26  # False Negatives
n <- TP + TN + FP + FN  # Total observations

# Sensitivity (SN)
sensitivity <- TP / (TP + FN)
cat("Sensitivity (SN): ", sensitivity, "\n")

# Specificity (SP)
specificity <- TN / (TN + FP)
cat("Specificity (SP): ", specificity, "\n")

# Precision (PR)
precision <- TP / (TP + FP)
cat("Precision (PR): ", precision, "\n")

# Accuracy (ACC)
accuracy <- (TP + TN) / n
cat("Accuracy (ACC): ", accuracy, "\n")

# Cohen's Kappa (κ)
observed_accuracy <- (TP + TN) / n
expected_accuracy <- ((TP + FP) / n) * ((TP + FN) / n) + ((TN + FP) / n) * ((TN + FN) / n)
kappa <- (observed_accuracy - expected_accuracy) / (1 - expected_accuracy)
cat("Cohen's Kappa (κ): ", kappa, "\n")













