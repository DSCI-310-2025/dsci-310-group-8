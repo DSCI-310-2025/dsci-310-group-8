{
 "cells": [
  {
   "cell_type": "markdown",
   "id": "019dce5e-2afa-47b0-b803-f8a6f311b85f",
   "metadata": {},
   "source": [
    "# DSCI 310 Group Project: Income Prediction and Inference Analysis\n",
    "\n",
    "Prepared by Group 10:\n",
    "- Benjamin Gerochi\n",
    "- Izzy Zhou\n",
    "- Michael Tham\n",
    "- Yui Mikuriya"
   ]
  },
  {
   "cell_type": "markdown",
   "id": "bb971875-4004-41ce-9c29-db5360f175b2",
   "metadata": {},
   "source": [
    "## (1) Summary\n"
   ]
  },
  {
   "cell_type": "markdown",
   "id": "9e4261de-1668-48eb-aafd-b5ec77069172",
   "metadata": {},
   "source": [
    "## (2) Introduction\n"
   ]
  },
  {
   "cell_type": "markdown",
   "id": "20026d5e-2e80-4600-b97e-9890b7216c93",
   "metadata": {},
   "source": [
    "## (3) Methods & Results"
   ]
  },
  {
   "cell_type": "markdown",
   "id": "de9f34a5-59d7-4d24-b884-6cca7de4c20f",
   "metadata": {},
   "source": [
    "## (4) Discussion\n"
   ]
  },
  {
   "cell_type": "markdown",
   "id": "6b05e49b-512e-40c4-b876-955f393fcae6",
   "metadata": {},
   "source": [
    "## (5) References\n"
   ]
  },
  {
   "cell_type": "code",
   "execution_count": null,
   "id": "9f99f797-f53b-404b-9821-9e00e2c1ff65",
   "metadata": {},
   "outputs": [],
   "source": []
  }
 ],
 "metadata": {
  "kernelspec": {
   "display_name": "R",
   "language": "R",
   "name": "ir"
  },
  "language_info": {
   "codemirror_mode": "r",
   "file_extension": ".r",
   "mimetype": "text/x-r-source",
   "name": "R",
   "pygments_lexer": "r",
   "version": "4.4.2"
  }
 },
 "nbformat": 4,
 "nbformat_minor": 5
}
