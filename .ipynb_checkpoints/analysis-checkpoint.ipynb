{
 "cells": [
  {
   "cell_type": "markdown",
   "id": "019dce5e-2afa-47b0-b803-f8a6f311b85f",
   "metadata": {},
   "source": [
    "# DSCI 310 Group Project: Income Prediction and Inference Analysis\n",
    "\n",
    "Prepared by Group 10:\n",
    "- Benjamin Gerochi\n",
    "- Izzy Zhou\n",
    "- Michael Tham\n",
    "- Yui Mikuriya"
   ]
  },
  {
   "cell_type": "markdown",
   "id": "bb971875-4004-41ce-9c29-db5360f175b2",
   "metadata": {},
   "source": [
    "## (1) Summary\n"
   ]
  },
  {
   "cell_type": "markdown",
   "id": "9e4261de-1668-48eb-aafd-b5ec77069172",
   "metadata": {},
   "source": [
    "## (2) Introduction\n",
    "## Dataset Overview\n",
    "\n",
    "The dataset selected for this project is the **Adult Dataset** (Kohavi & Becker, 1996), available through the **UCI Machine Learning Repository**. It contains demographic and income data collected by the **U.S. Census Bureau** and is widely used for predicting whether an individual’s income exceeds **$50,000 per year** based on various demographic factors.\n",
    "\n",
    "### Dataset Details:\n",
    "- **Dataset Name**: UC Irvine Adult Dataset  \n",
    "- **Source**: 1994 U.S. Census database, compiled by Ronny Kohavi and Barry Becker  \n",
    "  - [Access the dataset here](https://archive.ics.uci.edu/ml/datasets/adult)  \n",
    "- **Total Observations**: 32,561  \n",
    "- **Total Variables**: 15  \n",
    "\n",
    "\n",
    "### Variables and Their Types\n",
    "\n",
    "\n",
    "| Variable Index | Variable Name       | Type      | Description |\n",
    "|----------------|---------------------|-----------|-------------|\n",
    "| 0              | age                 | continuous       | Age of the individual |\n",
    "| 1              | workclass           | categorical    | Employment sector (e.g., Private, Self-emp-not-inc, State-gov) |\n",
    "| 2              | fnlwgt              | continuous       | Final weight, representing the number of people the observation represents in the population |\n",
    "| 3              | education           | categorical    | Highest level of education attained |\n",
    "| 4              | education-num       | continuous       | Numerical representation of education level |\n",
    "| 5              | marital-status      | categorical    | Marital status (e.g., Never-married, Married-civ-spouse) |\n",
    "| 6              | occupation          | categorical    | Type of occupation (e.g., Adm-clerical, Exec-managerial) |\n",
    "| 7              | relationship        | categorical    | Relationship of the individual to the household (e.g., Husband, Not-in-family) |\n",
    "| 8              | race                | categorical    | Race of the individual (e.g., White, Black) |\n",
    "| 9              | sex                 | categorical    | Gender (Male/Female) |\n",
    "| 10             | capital-gain        | continuous       | Capital gains earned |\n",
    "| 11             | capital-loss        | continuous       | Capital losses incurred |\n",
    "| 12             | hours-per-week      | continuous       | Average hours worked per week |\n",
    "| 13             | native-country      | categorical    | Country of origin |\n",
    "| 14             | income              | categorical    | Income level (<=50K, >50K) |\n",
    "\n",
    "**Table 1.1**: Description of variables in the U.S. Census Adult dataset\n",
    "\n",
    "<!-- ### Descriptive Statistics\n",
    "\n",
    "- **Age**: Ranges from 17 to 90, with an average age of 38.6 years.\n",
    "- **Education-num**: Has values from 1 to 16, representing various education levels.\n",
    "- **Capital-gain**: Ranges from 0 to 99,999, with most values concentrated around zero, indicating that high capital gains are rare.\n",
    "- **Capital-loss**: Similar to capital gain, most values are zero.\n",
    "- **Hours-per-week**: Has a mean of 40.4 hours, aligning with typical full-time work expectations.\n",
    "- **Income**: Target variable, classified into two categories: <=50K and >50K. -->\n",
    "\n",
    "This dataset includes both **categorical** and **numerical** variables, making it suitable for analyzing relationships between **demographic attributes** and **income levels**. Further **exploration and preprocessing** may involve handling **missing values** and **encoding categorical features**.  \n",
    "\n",
    "### Research Question  \n",
    "**How do demographic factors influence the likelihood of an individual's annual income exceeding $50,000?**  \n",
    "\n",
    "This study explores relationships between demographic variables and income levels without pre-assuming key predictors. Our team initially analyzed different aspects of the dataset before deciding to focus on demographic influences on income.  \n",
    "\n",
    "### Literature Context  \n",
    "Prior research supports the importance of demographic factors in income prediction. Jo (2023) analyzed the **Adult dataset** and identified **capital gain, education, relationship status, and occupation** as key predictors. Similarly, Azzollini et al. (2023) found that demographic differences explained **40% of income inequality** across OECD countries, reinforcing the relevance of our analysis.  \n",
    "\n",
    "### **Objective**\n",
    "\n",
    "This research question encompasses both **prediction** and **inference**:\n",
    "\n",
    "- **Prediction:** To develop a model capable of predicting the likelihood of an individual earning more than $50,000 annually based on key demographic factors.\n",
    "\n",
    "- **Inference:** To understand the nature and strength of the relationships between various demographic factors and income.\n",
    "\n",
    "### Loading Required Libraries\n",
    "We will start by importing the necessary Python libraries for data analysis and preprocessing."
   ]
  },
  {
   "cell_type": "markdown",
   "id": "20026d5e-2e80-4600-b97e-9890b7216c93",
   "metadata": {},
   "source": [
    "## (3) Methods & Results"
   ]
  },
  {
   "cell_type": "markdown",
   "id": "de9f34a5-59d7-4d24-b884-6cca7de4c20f",
   "metadata": {},
   "source": [
    "## (4) Discussion\n"
   ]
  },
  {
   "cell_type": "markdown",
   "id": "6b05e49b-512e-40c4-b876-955f393fcae6",
   "metadata": {},
   "source": [
    "## (5) References\n"
   ]
  },
  {
   "cell_type": "code",
   "execution_count": null,
   "id": "9f99f797-f53b-404b-9821-9e00e2c1ff65",
   "metadata": {},
   "outputs": [],
   "source": []
  }
 ],
 "metadata": {
  "kernelspec": {
   "display_name": "R",
   "language": "R",
   "name": "ir"
  },
  "language_info": {
   "codemirror_mode": "r",
   "file_extension": ".r",
   "mimetype": "text/x-r-source",
   "name": "R",
   "pygments_lexer": "r",
   "version": "4.4.2"
  }
 },
 "nbformat": 4,
 "nbformat_minor": 5
}
